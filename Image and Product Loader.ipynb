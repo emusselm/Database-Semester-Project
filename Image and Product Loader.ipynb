{
 "cells": [
  {
   "cell_type": "code",
   "execution_count": null,
   "id": "fb24a63a",
   "metadata": {},
   "outputs": [],
   "source": [
    "import sys\n",
    "import os\n",
    "import string"
   ]
  },
  {
   "cell_type": "code",
   "execution_count": null,
   "id": "94945cfa",
   "metadata": {},
   "outputs": [],
   "source": [
    "import mysql.connector\n",
    "\n",
    "mydb = mysql.connector.connect(\n",
    "  host=\"localhost\",\n",
    "  user=\"root\",\n",
    "  password=\"PASSWORD\",\n",
    "  database=\"store\"\n",
    ")"
   ]
  },
  {
   "cell_type": "code",
   "execution_count": null,
   "id": "eb783736",
   "metadata": {},
   "outputs": [],
   "source": [
    "mycursor = mydb.cursor()"
   ]
  },
  {
   "cell_type": "code",
   "execution_count": null,
   "id": "c2ea2a5a",
   "metadata": {},
   "outputs": [],
   "source": [
    "product_prices = {\"tshirt\":22.98, \"sweatshirt\":49.50, \"phonecase\":10.99}"
   ]
  },
  {
   "cell_type": "code",
   "execution_count": null,
   "id": "7e35cfb2",
   "metadata": {},
   "outputs": [],
   "source": [
    "image_description_list = {\n",
    "    \"abstract_AI\" : [\"An abstract painting of artificial intelligence\", \"Abstract AI\"],\n",
    "    \"astro_horse\" : [\"photograph of an astronaut riding a horse\", \"Astronaut on a Horse\"],\n",
    "    \"balloon_dog\" : [\"3D render of a pink balloon dog in a violet room\", \"Baloon Dog\"],\n",
    "    \"coffee_and_laptop\" : [\"a laptop with a latte next to it in the style of vaporware\", \"Coffee and Laptop\"],\n",
    "    \"cyborg_face\":[\"A futuristic neon lit cyborg face\",\"Neon Cyborg Face\"],\n",
    "    \"dj_david\" : [\"A photo of Michelangelo's sculpture of David wearing headphones djing\", \"DJ David\"],\n",
    "    \"over_it\" : [\"three overworked computer science students, two men and one woman, crying and sleeping in front of their computers, cartoon\", \"Semester is Almost Over\"], \n",
    "    \"poet_dog\" : [\"A Shiba Inu dog wearing a beret and black turtleneck\",\"Shibu Inu\"],\n",
    "    \"synth_sunset\" : [\"A synthwave style sunset above the reflecting water of the sea, digital art\", \"Synth Sunset\"],\n",
    "    \"watercolor_future\" : [\"a pencil and watercolor drawing of a bright city in the future with flying cars\", \"Watercolor Future\"]\n",
    "}"
   ]
  },
  {
   "cell_type": "code",
   "execution_count": null,
   "id": "4695b51f",
   "metadata": {},
   "outputs": [],
   "source": [
    "image_numbers = [\"abstract_AI\",\"astro_horse\",\"balloon_dog\",\"coffee_and_laptop\",\"cyborg_face\",\"dj_david\",\"over_it\",\n",
    "                \"poet_dog\", \"synth_sunset\",\"watercolor_future\"]"
   ]
  },
  {
   "cell_type": "code",
   "execution_count": null,
   "id": "01607ed3",
   "metadata": {},
   "outputs": [],
   "source": [
    "image_sql = \"INSERT INTO image (imagePath, phrase) VALUES (%s, %s)\""
   ]
  },
  {
   "cell_type": "code",
   "execution_count": null,
   "id": "78ba3fb5",
   "metadata": {},
   "outputs": [],
   "source": [
    "pathToImages = \"./DALL.E Images\"\n",
    "pathToProducts = \"./Product Images\""
   ]
  },
  {
   "cell_type": "code",
   "execution_count": null,
   "id": "7e320606",
   "metadata": {},
   "outputs": [],
   "source": [
    "for image_name in image_description_list:\n",
    "    full_image_path = pathToImages+\"/\"+image_name+\".jpg\"\n",
    "    image_val = (full_image_path, image_description_list[image_name][0])\n",
    "    mycursor.execute(image_sql, image_val)"
   ]
  },
  {
   "cell_type": "code",
   "execution_count": null,
   "id": "48029e45",
   "metadata": {},
   "outputs": [],
   "source": [
    "mydb.commit()"
   ]
  },
  {
   "cell_type": "code",
   "execution_count": null,
   "id": "1704ace3",
   "metadata": {},
   "outputs": [],
   "source": [
    "product_sql = \"INSERT INTO products (title, price, merchType, merchImagePath, imgID) VALUES (%s, %s,%s, %s,%s)\""
   ]
  },
  {
   "cell_type": "code",
   "execution_count": null,
   "id": "5c649578",
   "metadata": {},
   "outputs": [],
   "source": [
    "productList = os.listdir(pathToProducts)\n",
    "productListNames = ['.'.join(x.split('.')[:-1]) for x in os.listdir(pathToProducts) if os.path.isfile(os.path.join(pathToProducts, x))]"
   ]
  },
  {
   "cell_type": "code",
   "execution_count": null,
   "id": "b3ebec44",
   "metadata": {},
   "outputs": [],
   "source": [
    "for product in productListNames:\n",
    "    typeOf, number = product.split(\"_\")\n",
    "    number = int(number)-1\n",
    "    image_name = image_numbers[number]\n",
    "    productPrice = product_prices[typeOf]\n",
    "    title =  image_description_list[image_name][1] + \" \" + str.capitalize(typeOf)\n",
    "    image_path = pathToProducts + \"/\" + image_name + \".jpg\"\n",
    "    #print(product, number, productPrice, title)\n",
    "    product_val = (title, productPrice, typeOf,image_path, (number+1))\n",
    "    mycursor.execute(product_sql, product_val)"
   ]
  },
  {
   "cell_type": "code",
   "execution_count": null,
   "id": "6303a2c6",
   "metadata": {},
   "outputs": [],
   "source": [
    "mydb.commit()"
   ]
  },
  {
   "cell_type": "code",
   "execution_count": null,
   "id": "f865bbe7",
   "metadata": {},
   "outputs": [],
   "source": [
    "mydb.close()"
   ]
  },
  {
   "cell_type": "code",
   "execution_count": null,
   "id": "16c6071f",
   "metadata": {},
   "outputs": [],
   "source": []
  }
 ],
 "metadata": {
  "kernelspec": {
   "display_name": "Python 3 (ipykernel)",
   "language": "python",
   "name": "python3"
  },
  "language_info": {
   "codemirror_mode": {
    "name": "ipython",
    "version": 3
   },
   "file_extension": ".py",
   "mimetype": "text/x-python",
   "name": "python",
   "nbconvert_exporter": "python",
   "pygments_lexer": "ipython3",
   "version": "3.9.7"
  }
 },
 "nbformat": 4,
 "nbformat_minor": 5
}
