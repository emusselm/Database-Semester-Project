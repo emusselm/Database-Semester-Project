{
 "cells": [
  {
   "cell_type": "code",
   "execution_count": 55,
   "id": "fb24a63a",
   "metadata": {},
   "outputs": [],
   "source": [
    "import sys\n",
    "import os\n",
    "import string\n"
   ]
  },
  {
   "cell_type": "code",
   "execution_count": 39,
   "id": "94945cfa",
   "metadata": {},
   "outputs": [],
   "source": [
    "import mysql.connector\n",
    "\n",
    "mydb = mysql.connector.connect(\n",
    "  host=\"localhost\",\n",
    "  user=\"root\",\n",
    "  port=3307,\n",
    "  password=\"\",\n",
    "  database=\"store\"\n",
    ")"
   ]
  },
  {
   "cell_type": "code",
   "execution_count": null,
   "id": "8b88652b",
   "metadata": {},
   "outputs": [],
   "source": []
  },
  {
   "cell_type": "code",
   "execution_count": 40,
   "id": "eb783736",
   "metadata": {},
   "outputs": [],
   "source": [
    "mycursor = mydb.cursor()"
   ]
  },
  {
   "cell_type": "code",
   "execution_count": 41,
   "id": "c2ea2a5a",
   "metadata": {},
   "outputs": [],
   "source": [
    "product_prices = {\"tshirt\":22.98, \"sweatshirt\":49.50, \"phonecase\":10.99}"
   ]
  },
  {
   "cell_type": "code",
   "execution_count": 42,
   "id": "7e35cfb2",
   "metadata": {},
   "outputs": [],
   "source": [
    "image_description_list = {\n",
    "    \"abstract_AI\" : [\"An abstract painting of artificial intelligence\", \"Abstract AI\"],\n",
    "    \"astro_horse\" : [\"photograph of an astronaut riding a horse\", \"Astronaut on a Horse\"],\n",
    "    \"balloon_dog\" : [\"3D render of a pink balloon dog in a violet room\", \"Baloon Dog\"],\n",
    "    \"coffee_and_laptop\" : [\"a laptop with a latte next to it in the style of vaporware\", \"Coffee and Laptop\"],\n",
    "    \"cyborg_face\":[\"A futuristic neon lit cyborg face\",\"Neon Cyborg Face\"],\n",
    "    \"dj_david\" : [\"A photo of Michelangelo's sculpture of David wearing headphones djing\", \"DJ David\"],\n",
    "    \"over_it\" : [\"three overworked computer science students, two men and one woman, crying and sleeping in front of their computers, cartoon\", \"Semester is Almost Over\"], \n",
    "    \"poet_dog\" : [\"A Shiba Inu dog wearing a beret and black turtleneck\",\"Shibu Inu\"],\n",
    "    \"synth_sunset\" : [\"A synthwave style sunset above the reflecting water of the sea, digital art\", \"Synth Sunset\"],\n",
    "    \"watercolor_future\" : [\"a pencil and watercolor drawing of a bright city in the future with flying cars\", \"Watercolor Future\"]\n",
    "}"
   ]
  },
  {
   "cell_type": "code",
   "execution_count": 43,
   "id": "4695b51f",
   "metadata": {},
   "outputs": [],
   "source": [
    "image_numbers = [\"abstract_AI\",\"astro_horse\",\"balloon_dog\",\"coffee_and_laptop\",\"cyborg_face\",\"dj_david\",\"over_it\",\n",
    "                \"poet_dog\", \"synth_sunset\",\"watercolor_future\"]"
   ]
  },
  {
   "cell_type": "code",
   "execution_count": 44,
   "id": "01607ed3",
   "metadata": {},
   "outputs": [],
   "source": [
    "image_sql = \"INSERT INTO image (imagePath, phrase) VALUES (%s, %s)\""
   ]
  },
  {
   "cell_type": "code",
   "execution_count": 45,
   "id": "78ba3fb5",
   "metadata": {},
   "outputs": [],
   "source": [
    "pathToImages = \"./DALL.E Images\"\n",
    "pathToProducts = \"./Product Images\""
   ]
  },
  {
   "cell_type": "code",
   "execution_count": 46,
   "id": "7e320606",
   "metadata": {},
   "outputs": [],
   "source": [
    "for image_name in image_description_list:\n",
    "    full_image_path = pathToImages+\"/\"+image_name+\".jpg\"\n",
    "    image_val = (full_image_path, image_description_list[image_name][0])\n",
    "    mycursor.execute(image_sql, image_val)"
   ]
  },
  {
   "cell_type": "code",
   "execution_count": 47,
   "id": "48029e45",
   "metadata": {},
   "outputs": [],
   "source": [
    "mydb.commit()"
   ]
  },
  {
   "cell_type": "code",
   "execution_count": 48,
   "id": "1704ace3",
   "metadata": {},
   "outputs": [],
   "source": [
    "product_sql = \"INSERT INTO products (title, price, merchType, merchImagePath, imgID) VALUES (%s, %s,%s, %s,%s)\""
   ]
  },
  {
   "cell_type": "code",
   "execution_count": 49,
   "id": "5c649578",
   "metadata": {},
   "outputs": [],
   "source": [
    "productList = os.listdir(pathToProducts)\n",
    "productListNames = ['.'.join(x.split('.')[:-1]) for x in os.listdir(pathToProducts) if os.path.isfile(os.path.join(pathToProducts, x))]"
   ]
  },
  {
   "cell_type": "code",
   "execution_count": 54,
   "id": "b3ebec44",
   "metadata": {},
   "outputs": [
    {
     "ename": "ProgrammingError",
     "evalue": "2055: Cursor is not connected",
     "output_type": "error",
     "traceback": [
      "\u001b[1;31m---------------------------------------------------------------------------\u001b[0m",
      "\u001b[1;31mProgrammingError\u001b[0m                          Traceback (most recent call last)",
      "\u001b[1;32m~\\AppData\\Local\\Temp/ipykernel_2692/1068566702.py\u001b[0m in \u001b[0;36m<module>\u001b[1;34m\u001b[0m\n\u001b[0;32m      7\u001b[0m     \u001b[0mimage_path\u001b[0m \u001b[1;33m=\u001b[0m \u001b[0mpathToProducts\u001b[0m \u001b[1;33m+\u001b[0m \u001b[1;34m\"/\"\u001b[0m \u001b[1;33m+\u001b[0m \u001b[0mproduct\u001b[0m \u001b[1;33m+\u001b[0m \u001b[1;34m\".jpg\"\u001b[0m\u001b[1;33m\u001b[0m\u001b[1;33m\u001b[0m\u001b[0m\n\u001b[0;32m      8\u001b[0m     \u001b[0mproduct_val\u001b[0m \u001b[1;33m=\u001b[0m \u001b[1;33m(\u001b[0m\u001b[0mtitle\u001b[0m\u001b[1;33m,\u001b[0m \u001b[0mproductPrice\u001b[0m\u001b[1;33m,\u001b[0m \u001b[0mtypeOf\u001b[0m\u001b[1;33m,\u001b[0m \u001b[0mimage_path\u001b[0m\u001b[1;33m,\u001b[0m \u001b[1;33m(\u001b[0m\u001b[0mnumber\u001b[0m\u001b[1;33m+\u001b[0m\u001b[1;36m1\u001b[0m\u001b[1;33m)\u001b[0m\u001b[1;33m)\u001b[0m\u001b[1;33m\u001b[0m\u001b[1;33m\u001b[0m\u001b[0m\n\u001b[1;32m----> 9\u001b[1;33m     \u001b[0mmycursor\u001b[0m\u001b[1;33m.\u001b[0m\u001b[0mexecute\u001b[0m\u001b[1;33m(\u001b[0m\u001b[0mproduct_sql\u001b[0m\u001b[1;33m,\u001b[0m \u001b[0mproduct_val\u001b[0m\u001b[1;33m)\u001b[0m\u001b[1;33m\u001b[0m\u001b[1;33m\u001b[0m\u001b[0m\n\u001b[0m",
      "\u001b[1;32m~\\anaconda3\\lib\\site-packages\\mysql\\connector\\cursor_cext.py\u001b[0m in \u001b[0;36mexecute\u001b[1;34m(self, operation, params, multi)\u001b[0m\n\u001b[0;32m    246\u001b[0m \u001b[1;33m\u001b[0m\u001b[0m\n\u001b[0;32m    247\u001b[0m         \u001b[1;32mif\u001b[0m \u001b[1;32mnot\u001b[0m \u001b[0mself\u001b[0m\u001b[1;33m.\u001b[0m\u001b[0m_cnx\u001b[0m \u001b[1;32mor\u001b[0m \u001b[0mself\u001b[0m\u001b[1;33m.\u001b[0m\u001b[0m_cnx\u001b[0m\u001b[1;33m.\u001b[0m\u001b[0mis_closed\u001b[0m\u001b[1;33m(\u001b[0m\u001b[1;33m)\u001b[0m\u001b[1;33m:\u001b[0m\u001b[1;33m\u001b[0m\u001b[1;33m\u001b[0m\u001b[0m\n\u001b[1;32m--> 248\u001b[1;33m             \u001b[1;32mraise\u001b[0m \u001b[0mProgrammingError\u001b[0m\u001b[1;33m(\u001b[0m\u001b[1;34m\"Cursor is not connected\"\u001b[0m\u001b[1;33m,\u001b[0m \u001b[1;36m2055\u001b[0m\u001b[1;33m)\u001b[0m\u001b[1;33m\u001b[0m\u001b[1;33m\u001b[0m\u001b[0m\n\u001b[0m\u001b[0;32m    249\u001b[0m         \u001b[0mself\u001b[0m\u001b[1;33m.\u001b[0m\u001b[0m_cnx\u001b[0m\u001b[1;33m.\u001b[0m\u001b[0mhandle_unread_result\u001b[0m\u001b[1;33m(\u001b[0m\u001b[1;33m)\u001b[0m\u001b[1;33m\u001b[0m\u001b[1;33m\u001b[0m\u001b[0m\n\u001b[0;32m    250\u001b[0m \u001b[1;33m\u001b[0m\u001b[0m\n",
      "\u001b[1;31mProgrammingError\u001b[0m: 2055: Cursor is not connected"
     ]
    }
   ],
   "source": [
    "for product in productListNames:\n",
    "    typeOf, number = product.split(\"_\")\n",
    "    number = int(number)-1\n",
    "    image_name = image_numbers[number]\n",
    "    productPrice = product_prices[typeOf]\n",
    "    title =  image_description_list[image_name][1] + \" \" + str.capitalize(typeOf)\n",
    "    image_path = pathToProducts + \"/\" + product + \".jpg\"\n",
    "    product_val = (title, productPrice, typeOf, image_path, (number+1))\n",
    "    mycursor.execute(product_sql, product_val)"
   ]
  },
  {
   "cell_type": "code",
   "execution_count": 52,
   "id": "6303a2c6",
   "metadata": {},
   "outputs": [],
   "source": [
    "mydb.commit()"
   ]
  },
  {
   "cell_type": "code",
   "execution_count": 53,
   "id": "f865bbe7",
   "metadata": {},
   "outputs": [],
   "source": [
    "mydb.close()"
   ]
  },
  {
   "cell_type": "code",
   "execution_count": null,
   "id": "25bf919d",
   "metadata": {},
   "outputs": [],
   "source": []
  }
 ],
 "metadata": {
  "kernelspec": {
   "display_name": "Python 3 (ipykernel)",
   "language": "python",
   "name": "python3"
  },
  "language_info": {
   "codemirror_mode": {
    "name": "ipython",
    "version": 3
   },
   "file_extension": ".py",
   "mimetype": "text/x-python",
   "name": "python",
   "nbconvert_exporter": "python",
   "pygments_lexer": "ipython3",
   "version": "3.9.7"
  }
 },
 "nbformat": 4,
 "nbformat_minor": 5
}
