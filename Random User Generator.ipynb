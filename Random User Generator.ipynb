{
 "cells": [
  {
   "cell_type": "code",
   "execution_count": null,
   "id": "baf42a44",
   "metadata": {},
   "outputs": [],
   "source": [
    "!pip install names"
   ]
  },
  {
   "cell_type": "code",
   "execution_count": null,
   "id": "19883fec",
   "metadata": {},
   "outputs": [],
   "source": [
    "!pip install random_address"
   ]
  },
  {
   "cell_type": "code",
   "execution_count": null,
   "id": "50024b26",
   "metadata": {},
   "outputs": [],
   "source": [
    "import names\n",
    "import random\n",
    "import random_address\n",
    "from datetime import date"
   ]
  },
  {
   "cell_type": "code",
   "execution_count": null,
   "id": "f57ea6ba",
   "metadata": {},
   "outputs": [],
   "source": [
    "import mysql.connector\n",
    "\n",
    "mydb = mysql.connector.connect(\n",
    "  host=\"localhost\",\n",
    "  user=\"root\",\n",
    "  password=\"PASSWORD\",\n",
    "  database=\"store\"\n",
    ")"
   ]
  },
  {
   "cell_type": "code",
   "execution_count": null,
   "id": "fddf09d7",
   "metadata": {},
   "outputs": [],
   "source": [
    "mycursor = mydb.cursor()"
   ]
  },
  {
   "cell_type": "code",
   "execution_count": null,
   "id": "25370349",
   "metadata": {},
   "outputs": [],
   "source": [
    "import string\n",
    "\n",
    "#password generator\n",
    "def get_random_string(length):\n",
    "    # With combination of lower and upper case\n",
    "    result_str = ''.join(random.choice(string.ascii_letters) for i in range(length))\n",
    "    return result_str"
   ]
  },
  {
   "cell_type": "code",
   "execution_count": null,
   "id": "0ca3b04f",
   "metadata": {},
   "outputs": [],
   "source": [
    "#cell phone generator\n",
    "def rand_x_digit_num(x, leading_zeroes=True):\n",
    "    \"\"\"Return an X digit number, leading_zeroes returns a string, otherwise int\"\"\"\n",
    "    if not leading_zeroes:\n",
    "        # wrap with str() for uniform results\n",
    "        return random.randint(10**(x-1), 10**x-1)  \n",
    "    else:\n",
    "        if x > 6000:\n",
    "            return ''.join([str(random.randint(0, 9)) for i in xrange(x)])\n",
    "        else:\n",
    "            return '{0:0{x}d}'.format(random.randint(0, 10**x-1), x=x)      "
   ]
  },
  {
   "cell_type": "code",
   "execution_count": null,
   "id": "a890a2f8",
   "metadata": {},
   "outputs": [],
   "source": [
    "#email tags\n",
    "emailTag = [\"gmail.com\", \"company.org\", \"yahoo.com\", \"comcast.net\", \"anothercompany.com\"]\n",
    "#area codes from phone number\n",
    "stateAreaCode = {\"AK\": [907],\n",
    "            \"AL\": [205, 251, 256, 334],\n",
    "            \"AZ\": [479, 501, 870],\n",
    "            \"AR\": [480, 520, 602, 623, 928],\n",
    "            \"CA\": [209, 213, 310, 323, 408, 415, 510, 530, 559, 562, 619, 626, 650, 661, 707, 714, 760, 805, 818, 831, 858, 909, 916, 925, 949, 951],\n",
    "            \"CO\": [303, 719, 970],\n",
    "            \"CT\": [203, 860],\n",
    "            \"DC\": [202],\n",
    "            \"DE\": [302],\n",
    "            \"FL\": [239, 305, 321, 352, 386, 407, 561, 727, 772, 813, 850, 863, 904, 941, 954],\n",
    "            \"GA\": [229, 404, 478, 706, 770, 912],\n",
    "            \"HI\": [808],\n",
    "            \"IA\": [319, 515, 563, 641, 712],\n",
    "            \"ID\": [208],\n",
    "            \"IL\": [217, 309, 312, 618, 630, 708, 773, 815, 847],\n",
    "            \"IN\": [219, 260, 317, 574, 765, 812],\n",
    "            \"KS\": [316, 620, 785, 913],\n",
    "            \"KY\": [270, 502, 606, 859],\n",
    "            \"LA\": [225, 318, 337, 504, 985],\n",
    "            \"MA\": [413, 508, 617, 781, 978],\n",
    "            \"MD\": [301, 410],\n",
    "            \"ME\": [207],\n",
    "            \"MI\": [231, 248, 269, 313, 517, 586, 616, 734, 810, 906, 989],\n",
    "            \"MN\": [218, 320, 507, 612, 651, 763, 952],\n",
    "            \"MO\": [314, 417, 573, 636, 660, 816],\n",
    "            \"MS\": [228, 601, 662],\n",
    "            \"MT\": [406],\n",
    "            \"NC\": [252, 336, 704, 828, 910, 919],\n",
    "            \"ND\": [701],\n",
    "            \"NE\": [308, 402],\n",
    "            \"NH\": [603],\n",
    "            \"NJ\": [201, 609, 732, 856, 908, 973],\n",
    "            \"NM\": [505, 575],\n",
    "            \"NV\": [702, 775],\n",
    "            \"NY\": [212, 315, 516, 518, 585, 607, 631, 716, 718, 845, 914],\n",
    "            \"OH\": [216, 330, 419, 440, 513, 614, 740, 937],\n",
    "            \"OK\": [405, 580, 918],\n",
    "            \"OR\": [503, 541],\n",
    "            \"PA\": [215, 412, 570, 610, 717, 724, 814],\n",
    "            \"RI\": [401],\n",
    "            \"SC\": [803, 843, 864],\n",
    "            \"SD\": [605],\n",
    "            \"TN\": [423, 615, 731, 865, 901, 931],\n",
    "            \"TX\": [210, 214, 254, 281, 325, 361, 409, 432, 512, 713, 806, 817, 830, 903, 915, 936, 940, 956, 972, 979],\n",
    "            \"UT\": [435, 801],\n",
    "            \"VA\": [276, 434, 540, 703, 757, 804],\n",
    "            \"VT\": [802],\n",
    "            \"WA\": [206, 253, 360, 425, 509],\n",
    "            \"WI\": [262, 414, 608, 715, 920],\n",
    "            \"WV\": [304],\n",
    "            \"WY\": [307]\n",
    "}"
   ]
  },
  {
   "cell_type": "code",
   "execution_count": null,
   "id": "d57184fd",
   "metadata": {},
   "outputs": [],
   "source": [
    "#sql insert statements \n",
    "user_sql = \"INSERT INTO users (Fname, Lname, email, pass, phoneNum) VALUES (%s, %s, %s, %s, %s)\"\n",
    "address_sql = \"INSERT INTO address (userID, street, city, state, zip) VALUES (%s, %s, %s, %s, %s)\"\n",
    "order_sql = \"INSERT INTO orders (orderDate, total, userID) VALUES (%s, %s, %s)\""
   ]
  },
  {
   "cell_type": "code",
   "execution_count": null,
   "id": "99aecb40",
   "metadata": {},
   "outputs": [],
   "source": [
    "#get all products\n",
    "mycursor.execute(\"SELECT * FROM products\") #get product prices\n",
    "rows = mycursor.fetchall()"
   ]
  },
  {
   "cell_type": "code",
   "execution_count": null,
   "id": "00213908",
   "metadata": {
    "scrolled": true
   },
   "outputs": [],
   "source": [
    "#create a user, address, and order for that user\n",
    "for x in range(1,21):\n",
    "    userid = x\n",
    "    first = names.get_first_name()\n",
    "    last = names.get_last_name()\n",
    "    email = first + \".\" + last + \"@\" + emailTag[random.randrange(0,len(emailTag))]\n",
    "    password = get_random_string(8)\n",
    "    address = random_address.real_random_address()\n",
    "    phone_number = int(str(stateAreaCode[address[\"state\"]][random.randint(0,len(stateAreaCode[address[\"state\"]])-1)])+rand_x_digit_num(7))\n",
    "   #print(\"entering user\")\n",
    "    user_val = (first, last, email, password, phone_number)\n",
    "    mycursor.execute(user_sql, user_val)\n",
    "    mydb.commit()\n",
    "    \n",
    "    #print(\"entering address\")\n",
    "    address_val = (userid, address['address1'], address['city'], address['state'], address['postalCode'])\n",
    "    mycursor.execute(address_sql, address_val)\n",
    "    mydb.commit()\n",
    "    \n",
    "   # print(\"entering order\")\n",
    "    i = random.randint(1,29)\n",
    "    order_val = (date.today(), float(rows[i][2]), userid)\n",
    "    mycursor.execute(order_sql, order_val)\n",
    "    mydb.commit()\n",
    "    "
   ]
  },
  {
   "cell_type": "code",
   "execution_count": null,
   "id": "24d9ad28",
   "metadata": {},
   "outputs": [],
   "source": [
    "#close connection\n",
    "mydb.close()"
   ]
  }
 ],
 "metadata": {
  "kernelspec": {
   "display_name": "Python 3 (ipykernel)",
   "language": "python",
   "name": "python3"
  },
  "language_info": {
   "codemirror_mode": {
    "name": "ipython",
    "version": 3
   },
   "file_extension": ".py",
   "mimetype": "text/x-python",
   "name": "python",
   "nbconvert_exporter": "python",
   "pygments_lexer": "ipython3",
   "version": "3.9.7"
  }
 },
 "nbformat": 4,
 "nbformat_minor": 5
}
